{
 "cells": [
  {
   "cell_type": "code",
   "execution_count": 1,
   "metadata": {},
   "outputs": [],
   "source": [
    "import pandas as pd\n",
    "import numpy as np\n",
    "import seaborn as sns"
   ]
  },
  {
   "cell_type": "code",
   "execution_count": 3,
   "metadata": {},
   "outputs": [],
   "source": [
    "provincial = pd.read_csv('provincial_level.csv')"
   ]
  },
  {
   "cell_type": "code",
   "execution_count": 137,
   "metadata": {},
   "outputs": [],
   "source": [
    "df = pd.read_csv('13100368.csv')\n"
   ]
  },
  {
   "cell_type": "code",
   "execution_count": 138,
   "metadata": {},
   "outputs": [],
   "source": [
    "df1 = df[(df['REF_DATE']==2017)&(df['Sex']=='Both sexes')&(df['Birth weight']=='All birth weights')&(df['UOM']=='Rate')][['GEO','VALUE']]"
   ]
  },
  {
   "cell_type": "code",
   "execution_count": 139,
   "metadata": {},
   "outputs": [],
   "source": [
    "df = pd.read_csv('13100370.csv')"
   ]
  },
  {
   "cell_type": "code",
   "execution_count": 140,
   "metadata": {},
   "outputs": [],
   "source": [
    "df2 = df[(df['REF_DATE']=='2010/2012')&(df['Sex']=='Both sexes')&(df['Characteristics']=='Health-adjusted life expectancy')&(df['Income group']=='All income groups')&(df['Age group']=='At birth')][['GEO','VALUE']]\n",
    "\n",
    "\n",
    "\n"
   ]
  },
  {
   "cell_type": "code",
   "execution_count": 141,
   "metadata": {},
   "outputs": [],
   "source": [
    "df3 = df[(df['REF_DATE']=='2010/2012')&(df['Sex']=='Both sexes')&(df['Characteristics']=='Health-adjusted life expectancy')&(df['Income group']=='All income groups')&(df['Age group']=='At age 65')][['GEO','VALUE']]\n",
    "\n",
    "\n"
   ]
  },
  {
   "cell_type": "code",
   "execution_count": 142,
   "metadata": {},
   "outputs": [
    {
     "data": {
      "text/html": [
       "<div>\n",
       "<style scoped>\n",
       "    .dataframe tbody tr th:only-of-type {\n",
       "        vertical-align: middle;\n",
       "    }\n",
       "\n",
       "    .dataframe tbody tr th {\n",
       "        vertical-align: top;\n",
       "    }\n",
       "\n",
       "    .dataframe thead th {\n",
       "        text-align: right;\n",
       "    }\n",
       "</style>\n",
       "<table border=\"1\" class=\"dataframe\">\n",
       "  <thead>\n",
       "    <tr style=\"text-align: right;\">\n",
       "      <th></th>\n",
       "      <th>GEO</th>\n",
       "      <th>VALUE</th>\n",
       "    </tr>\n",
       "  </thead>\n",
       "  <tbody>\n",
       "    <tr>\n",
       "      <th>4968</th>\n",
       "      <td>Canada</td>\n",
       "      <td>70.4</td>\n",
       "    </tr>\n",
       "    <tr>\n",
       "      <th>5184</th>\n",
       "      <td>Newfoundland and Labrador</td>\n",
       "      <td>68.5</td>\n",
       "    </tr>\n",
       "    <tr>\n",
       "      <th>5400</th>\n",
       "      <td>Prince Edward Island</td>\n",
       "      <td>70.1</td>\n",
       "    </tr>\n",
       "    <tr>\n",
       "      <th>5616</th>\n",
       "      <td>Nova Scotia</td>\n",
       "      <td>68.2</td>\n",
       "    </tr>\n",
       "    <tr>\n",
       "      <th>5832</th>\n",
       "      <td>New Brunswick</td>\n",
       "      <td>69.3</td>\n",
       "    </tr>\n",
       "    <tr>\n",
       "      <th>6048</th>\n",
       "      <td>Quebec</td>\n",
       "      <td>71.5</td>\n",
       "    </tr>\n",
       "    <tr>\n",
       "      <th>6264</th>\n",
       "      <td>Ontario</td>\n",
       "      <td>70.3</td>\n",
       "    </tr>\n",
       "    <tr>\n",
       "      <th>6480</th>\n",
       "      <td>Manitoba</td>\n",
       "      <td>68.4</td>\n",
       "    </tr>\n",
       "    <tr>\n",
       "      <th>6696</th>\n",
       "      <td>Saskatchewan</td>\n",
       "      <td>68.7</td>\n",
       "    </tr>\n",
       "    <tr>\n",
       "      <th>6912</th>\n",
       "      <td>Alberta</td>\n",
       "      <td>69.3</td>\n",
       "    </tr>\n",
       "    <tr>\n",
       "      <th>7128</th>\n",
       "      <td>British Columbia</td>\n",
       "      <td>71.5</td>\n",
       "    </tr>\n",
       "    <tr>\n",
       "      <th>7344</th>\n",
       "      <td>Yukon</td>\n",
       "      <td>65.7</td>\n",
       "    </tr>\n",
       "    <tr>\n",
       "      <th>7380</th>\n",
       "      <td>Northwest Territories</td>\n",
       "      <td>66.6</td>\n",
       "    </tr>\n",
       "    <tr>\n",
       "      <th>7416</th>\n",
       "      <td>Nunavut</td>\n",
       "      <td>61.4</td>\n",
       "    </tr>\n",
       "  </tbody>\n",
       "</table>\n",
       "</div>"
      ],
      "text/plain": [
       "                            GEO  VALUE\n",
       "4968                     Canada   70.4\n",
       "5184  Newfoundland and Labrador   68.5\n",
       "5400       Prince Edward Island   70.1\n",
       "5616                Nova Scotia   68.2\n",
       "5832              New Brunswick   69.3\n",
       "6048                     Quebec   71.5\n",
       "6264                    Ontario   70.3\n",
       "6480                   Manitoba   68.4\n",
       "6696               Saskatchewan   68.7\n",
       "6912                    Alberta   69.3\n",
       "7128           British Columbia   71.5\n",
       "7344                      Yukon   65.7\n",
       "7380      Northwest Territories   66.6\n",
       "7416                    Nunavut   61.4"
      ]
     },
     "execution_count": 142,
     "metadata": {},
     "output_type": "execute_result"
    }
   ],
   "source": [
    "df2"
   ]
  },
  {
   "cell_type": "code",
   "execution_count": 143,
   "metadata": {},
   "outputs": [],
   "source": [
    "df1.set_index('GEO',inplace=True)\n",
    "df1.columns = ['Infant Mortality']\n",
    "df2.set_index('GEO',inplace=True)\n",
    "df2.columns = ['Life Expectancy at Birth']\n",
    "df3.set_index('GEO',inplace=True)\n",
    "df3.columns = ['Life Expectancy at Age 65']"
   ]
  },
  {
   "cell_type": "code",
   "execution_count": 144,
   "metadata": {},
   "outputs": [],
   "source": [
    "df_comp = df1.join(df2).join(df3)"
   ]
  },
  {
   "cell_type": "code",
   "execution_count": 145,
   "metadata": {},
   "outputs": [],
   "source": [
    "df_comp['wait_times'] = [19.8,22.0,39.8,34.4,45.1,15.8,15.7,26.1,15.4,26.1,23.2,np.nan,np.nan,np.nan]"
   ]
  },
  {
   "cell_type": "code",
   "execution_count": 146,
   "metadata": {},
   "outputs": [],
   "source": [
    "import seaborn as sns"
   ]
  },
  {
   "cell_type": "code",
   "execution_count": 147,
   "metadata": {},
   "outputs": [
    {
     "data": {
      "text/plain": [
       "<matplotlib.axes._subplots.AxesSubplot at 0x11c221ba8>"
      ]
     },
     "execution_count": 147,
     "metadata": {},
     "output_type": "execute_result"
    },
    {
     "data": {
      "image/png": "[encoded data removed]",
      "text/plain": [
       "<Figure size 432x288 with 2 Axes>"
      ]
     },
     "metadata": {
      "needs_background": "light"
     },
     "output_type": "display_data"
    }
   ],
   "source": [
    "sns.heatmap(df_comp)"
   ]
  },
  {
   "cell_type": "code",
   "execution_count": 148,
   "metadata": {},
   "outputs": [],
   "source": [
    "from sklearn.preprocessing import MinMaxScaler"
   ]
  },
  {
   "cell_type": "code",
   "execution_count": 149,
   "metadata": {},
   "outputs": [],
   "source": [
    "scaler = MinMaxScaler()\n",
    "df_comp[df_comp.columns] = scaler.fit_transform(df_comp)"
   ]
  },
  {
   "cell_type": "code",
   "execution_count": 153,
   "metadata": {},
   "outputs": [],
   "source": [
    "df_comp_copy = df_comp.copy()"
   ]
  },
  {
   "cell_type": "code",
   "execution_count": 154,
   "metadata": {},
   "outputs": [],
   "source": [
    "df_comp_copy = df_comp_copy.iloc[1:-3,:]"
   ]
  },
  {
   "cell_type": "code",
   "execution_count": 155,
   "metadata": {},
   "outputs": [
    {
     "data": {
      "text/html": [
       "<div>\n",
       "<style scoped>\n",
       "    .dataframe tbody tr th:only-of-type {\n",
       "        vertical-align: middle;\n",
       "    }\n",
       "\n",
       "    .dataframe tbody tr th {\n",
       "        vertical-align: top;\n",
       "    }\n",
       "\n",
       "    .dataframe thead th {\n",
       "        text-align: right;\n",
       "    }\n",
       "</style>\n",
       "<table border=\"1\" class=\"dataframe\">\n",
       "  <thead>\n",
       "    <tr style=\"text-align: right;\">\n",
       "      <th></th>\n",
       "      <th>Infant Mortality</th>\n",
       "      <th>Life Expectancy at Birth</th>\n",
       "      <th>Life Expectancy at Age 65</th>\n",
       "      <th>wait_times</th>\n",
       "    </tr>\n",
       "    <tr>\n",
       "      <th>GEO</th>\n",
       "      <th></th>\n",
       "      <th></th>\n",
       "      <th></th>\n",
       "      <th></th>\n",
       "    </tr>\n",
       "  </thead>\n",
       "  <tbody>\n",
       "    <tr>\n",
       "      <th>Newfoundland and Labrador</th>\n",
       "      <td>0.192771</td>\n",
       "      <td>0.702970</td>\n",
       "      <td>0.70</td>\n",
       "      <td>0.222222</td>\n",
       "    </tr>\n",
       "    <tr>\n",
       "      <th>Prince Edward Island</th>\n",
       "      <td>0.024096</td>\n",
       "      <td>0.861386</td>\n",
       "      <td>0.76</td>\n",
       "      <td>0.821549</td>\n",
       "    </tr>\n",
       "    <tr>\n",
       "      <th>Nova Scotia</th>\n",
       "      <td>0.156627</td>\n",
       "      <td>0.673267</td>\n",
       "      <td>0.64</td>\n",
       "      <td>0.639731</td>\n",
       "    </tr>\n",
       "    <tr>\n",
       "      <th>New Brunswick</th>\n",
       "      <td>0.000000</td>\n",
       "      <td>0.782178</td>\n",
       "      <td>0.80</td>\n",
       "      <td>1.000000</td>\n",
       "    </tr>\n",
       "    <tr>\n",
       "      <th>Quebec</th>\n",
       "      <td>0.144578</td>\n",
       "      <td>1.000000</td>\n",
       "      <td>0.88</td>\n",
       "      <td>0.013468</td>\n",
       "    </tr>\n",
       "    <tr>\n",
       "      <th>Ontario</th>\n",
       "      <td>0.228916</td>\n",
       "      <td>0.881188</td>\n",
       "      <td>0.84</td>\n",
       "      <td>0.010101</td>\n",
       "    </tr>\n",
       "    <tr>\n",
       "      <th>Manitoba</th>\n",
       "      <td>0.530120</td>\n",
       "      <td>0.693069</td>\n",
       "      <td>0.72</td>\n",
       "      <td>0.360269</td>\n",
       "    </tr>\n",
       "    <tr>\n",
       "      <th>Saskatchewan</th>\n",
       "      <td>0.457831</td>\n",
       "      <td>0.722772</td>\n",
       "      <td>0.76</td>\n",
       "      <td>0.000000</td>\n",
       "    </tr>\n",
       "    <tr>\n",
       "      <th>Alberta</th>\n",
       "      <td>0.253012</td>\n",
       "      <td>0.782178</td>\n",
       "      <td>0.72</td>\n",
       "      <td>0.360269</td>\n",
       "    </tr>\n",
       "    <tr>\n",
       "      <th>British Columbia</th>\n",
       "      <td>0.036145</td>\n",
       "      <td>1.000000</td>\n",
       "      <td>1.00</td>\n",
       "      <td>0.262626</td>\n",
       "    </tr>\n",
       "  </tbody>\n",
       "</table>\n",
       "</div>"
      ],
      "text/plain": [
       "                           Infant Mortality  Life Expectancy at Birth  \\\n",
       "GEO                                                                     \n",
       "Newfoundland and Labrador          0.192771                  0.702970   \n",
       "Prince Edward Island               0.024096                  0.861386   \n",
       "Nova Scotia                        0.156627                  0.673267   \n",
       "New Brunswick                      0.000000                  0.782178   \n",
       "Quebec                             0.144578                  1.000000   \n",
       "Ontario                            0.228916                  0.881188   \n",
       "Manitoba                           0.530120                  0.693069   \n",
       "Saskatchewan                       0.457831                  0.722772   \n",
       "Alberta                            0.253012                  0.782178   \n",
       "British Columbia                   0.036145                  1.000000   \n",
       "\n",
       "                           Life Expectancy at Age 65  wait_times  \n",
       "GEO                                                               \n",
       "Newfoundland and Labrador                       0.70    0.222222  \n",
       "Prince Edward Island                            0.76    0.821549  \n",
       "Nova Scotia                                     0.64    0.639731  \n",
       "New Brunswick                                   0.80    1.000000  \n",
       "Quebec                                          0.88    0.013468  \n",
       "Ontario                                         0.84    0.010101  \n",
       "Manitoba                                        0.72    0.360269  \n",
       "Saskatchewan                                    0.76    0.000000  \n",
       "Alberta                                         0.72    0.360269  \n",
       "British Columbia                                1.00    0.262626  "
      ]
     },
     "execution_count": 155,
     "metadata": {},
     "output_type": "execute_result"
    }
   ],
   "source": [
    "df_comp_copy"
   ]
  },
  {
   "cell_type": "code",
   "execution_count": 165,
   "metadata": {},
   "outputs": [
    {
     "data": {
      "text/html": [
       "<div>\n",
       "<style scoped>\n",
       "    .dataframe tbody tr th:only-of-type {\n",
       "        vertical-align: middle;\n",
       "    }\n",
       "\n",
       "    .dataframe tbody tr th {\n",
       "        vertical-align: top;\n",
       "    }\n",
       "\n",
       "    .dataframe thead th {\n",
       "        text-align: right;\n",
       "    }\n",
       "</style>\n",
       "<table border=\"1\" class=\"dataframe\">\n",
       "  <thead>\n",
       "    <tr style=\"text-align: right;\">\n",
       "      <th></th>\n",
       "      <th>Infant Mortality</th>\n",
       "      <th>Life Expectancy at Birth</th>\n",
       "      <th>Life Expectancy at Age 65</th>\n",
       "      <th>wait_times</th>\n",
       "    </tr>\n",
       "    <tr>\n",
       "      <th>GEO</th>\n",
       "      <th></th>\n",
       "      <th></th>\n",
       "      <th></th>\n",
       "      <th></th>\n",
       "    </tr>\n",
       "  </thead>\n",
       "  <tbody>\n",
       "    <tr>\n",
       "      <th>British Columbia</th>\n",
       "      <td>0.036145</td>\n",
       "      <td>1.000000</td>\n",
       "      <td>1.00</td>\n",
       "      <td>0.262626</td>\n",
       "    </tr>\n",
       "    <tr>\n",
       "      <th>Quebec</th>\n",
       "      <td>0.144578</td>\n",
       "      <td>1.000000</td>\n",
       "      <td>0.88</td>\n",
       "      <td>0.013468</td>\n",
       "    </tr>\n",
       "    <tr>\n",
       "      <th>Ontario</th>\n",
       "      <td>0.228916</td>\n",
       "      <td>0.881188</td>\n",
       "      <td>0.84</td>\n",
       "      <td>0.010101</td>\n",
       "    </tr>\n",
       "    <tr>\n",
       "      <th>Prince Edward Island</th>\n",
       "      <td>0.024096</td>\n",
       "      <td>0.861386</td>\n",
       "      <td>0.76</td>\n",
       "      <td>0.821549</td>\n",
       "    </tr>\n",
       "    <tr>\n",
       "      <th>New Brunswick</th>\n",
       "      <td>0.000000</td>\n",
       "      <td>0.782178</td>\n",
       "      <td>0.80</td>\n",
       "      <td>1.000000</td>\n",
       "    </tr>\n",
       "    <tr>\n",
       "      <th>Alberta</th>\n",
       "      <td>0.253012</td>\n",
       "      <td>0.782178</td>\n",
       "      <td>0.72</td>\n",
       "      <td>0.360269</td>\n",
       "    </tr>\n",
       "    <tr>\n",
       "      <th>Saskatchewan</th>\n",
       "      <td>0.457831</td>\n",
       "      <td>0.722772</td>\n",
       "      <td>0.76</td>\n",
       "      <td>0.000000</td>\n",
       "    </tr>\n",
       "    <tr>\n",
       "      <th>Newfoundland and Labrador</th>\n",
       "      <td>0.192771</td>\n",
       "      <td>0.702970</td>\n",
       "      <td>0.70</td>\n",
       "      <td>0.222222</td>\n",
       "    </tr>\n",
       "    <tr>\n",
       "      <th>Manitoba</th>\n",
       "      <td>0.530120</td>\n",
       "      <td>0.693069</td>\n",
       "      <td>0.72</td>\n",
       "      <td>0.360269</td>\n",
       "    </tr>\n",
       "    <tr>\n",
       "      <th>Nova Scotia</th>\n",
       "      <td>0.156627</td>\n",
       "      <td>0.673267</td>\n",
       "      <td>0.64</td>\n",
       "      <td>0.639731</td>\n",
       "    </tr>\n",
       "  </tbody>\n",
       "</table>\n",
       "</div>"
      ],
      "text/plain": [
       "                           Infant Mortality  Life Expectancy at Birth  \\\n",
       "GEO                                                                     \n",
       "British Columbia                   0.036145                  1.000000   \n",
       "Quebec                             0.144578                  1.000000   \n",
       "Ontario                            0.228916                  0.881188   \n",
       "Prince Edward Island               0.024096                  0.861386   \n",
       "New Brunswick                      0.000000                  0.782178   \n",
       "Alberta                            0.253012                  0.782178   \n",
       "Saskatchewan                       0.457831                  0.722772   \n",
       "Newfoundland and Labrador          0.192771                  0.702970   \n",
       "Manitoba                           0.530120                  0.693069   \n",
       "Nova Scotia                        0.156627                  0.673267   \n",
       "\n",
       "                           Life Expectancy at Age 65  wait_times  \n",
       "GEO                                                               \n",
       "British Columbia                                1.00    0.262626  \n",
       "Quebec                                          0.88    0.013468  \n",
       "Ontario                                         0.84    0.010101  \n",
       "Prince Edward Island                            0.76    0.821549  \n",
       "New Brunswick                                   0.80    1.000000  \n",
       "Alberta                                         0.72    0.360269  \n",
       "Saskatchewan                                    0.76    0.000000  \n",
       "Newfoundland and Labrador                       0.70    0.222222  \n",
       "Manitoba                                        0.72    0.360269  \n",
       "Nova Scotia                                     0.64    0.639731  "
      ]
     },
     "execution_count": 165,
     "metadata": {},
     "output_type": "execute_result"
    }
   ],
   "source": [
    "df_comp_copy = df_comp_copy.sort_values(['Life Expectancy at Birth', 'Life Expectancy at Age 65','wait_times','Infant Mortality'], ascending=[False,False, True,True])\n",
    "\n",
    "df_comp_copy\n"
   ]
  },
  {
   "cell_type": "code",
   "execution_count": 186,
   "metadata": {},
   "outputs": [],
   "source": [
    "df_tsne = pd.read_csv('tsne_data.csv')"
   ]
  },
  {
   "cell_type": "code",
   "execution_count": 188,
   "metadata": {},
   "outputs": [],
   "source": [
    "df_tsne = df_tsne.iloc[:-1,:]"
   ]
  },
  {
   "cell_type": "code",
   "execution_count": 189,
   "metadata": {},
   "outputs": [],
   "source": [
    "from sklearn.manifold import TSNE"
   ]
  },
  {
   "cell_type": "code",
   "execution_count": 191,
   "metadata": {},
   "outputs": [
    {
     "data": {
      "text/html": [
       "<div>\n",
       "<style scoped>\n",
       "    .dataframe tbody tr th:only-of-type {\n",
       "        vertical-align: middle;\n",
       "    }\n",
       "\n",
       "    .dataframe tbody tr th {\n",
       "        vertical-align: top;\n",
       "    }\n",
       "\n",
       "    .dataframe thead th {\n",
       "        text-align: right;\n",
       "    }\n",
       "</style>\n",
       "<table border=\"1\" class=\"dataframe\">\n",
       "  <thead>\n",
       "    <tr style=\"text-align: right;\">\n",
       "      <th></th>\n",
       "      <th>Province</th>\n",
       "      <th>Population Count</th>\n",
       "      <th>Median Age</th>\n",
       "      <th>Population Density</th>\n",
       "      <th>% of Seniors</th>\n",
       "      <th>Unemployment Rate</th>\n",
       "      <th>prop_aborginal</th>\n",
       "    </tr>\n",
       "  </thead>\n",
       "  <tbody>\n",
       "    <tr>\n",
       "      <th>0</th>\n",
       "      <td>Newfoundland and Labrador</td>\n",
       "      <td>525000</td>\n",
       "      <td>43.4</td>\n",
       "      <td>1.295618</td>\n",
       "      <td>15.0</td>\n",
       "      <td>7.5</td>\n",
       "      <td>7.1</td>\n",
       "    </tr>\n",
       "    <tr>\n",
       "      <th>1</th>\n",
       "      <td>Prince Edward Island</td>\n",
       "      <td>144000</td>\n",
       "      <td>41.9</td>\n",
       "      <td>25.441696</td>\n",
       "      <td>15.0</td>\n",
       "      <td>12.6</td>\n",
       "      <td>1.6</td>\n",
       "    </tr>\n",
       "    <tr>\n",
       "      <th>2</th>\n",
       "      <td>Nova Scotia</td>\n",
       "      <td>944500</td>\n",
       "      <td>42.7</td>\n",
       "      <td>17.084509</td>\n",
       "      <td>15.2</td>\n",
       "      <td>11.0</td>\n",
       "      <td>3.7</td>\n",
       "    </tr>\n",
       "    <tr>\n",
       "      <th>3</th>\n",
       "      <td>New Brunswick</td>\n",
       "      <td>755500</td>\n",
       "      <td>42.8</td>\n",
       "      <td>10.362374</td>\n",
       "      <td>15.1</td>\n",
       "      <td>9.0</td>\n",
       "      <td>3.1</td>\n",
       "    </tr>\n",
       "    <tr>\n",
       "      <th>4</th>\n",
       "      <td>Quebec</td>\n",
       "      <td>8007700</td>\n",
       "      <td>40.7</td>\n",
       "      <td>5.192872</td>\n",
       "      <td>14.1</td>\n",
       "      <td>9.5</td>\n",
       "      <td>1.8</td>\n",
       "    </tr>\n",
       "    <tr>\n",
       "      <th>5</th>\n",
       "      <td>Ontario</td>\n",
       "      <td>13263500</td>\n",
       "      <td>39.4</td>\n",
       "      <td>12.322149</td>\n",
       "      <td>13.3</td>\n",
       "      <td>7.9</td>\n",
       "      <td>2.4</td>\n",
       "    </tr>\n",
       "    <tr>\n",
       "      <th>6</th>\n",
       "      <td>Manitoba</td>\n",
       "      <td>1233700</td>\n",
       "      <td>37.2</td>\n",
       "      <td>1.904455</td>\n",
       "      <td>12.7</td>\n",
       "      <td>7.9</td>\n",
       "      <td>16.7</td>\n",
       "    </tr>\n",
       "    <tr>\n",
       "      <th>7</th>\n",
       "      <td>Saskatchewan</td>\n",
       "      <td>1066300</td>\n",
       "      <td>37.0</td>\n",
       "      <td>1.637851</td>\n",
       "      <td>13.4</td>\n",
       "      <td>5.5</td>\n",
       "      <td>15.6</td>\n",
       "    </tr>\n",
       "    <tr>\n",
       "      <th>8</th>\n",
       "      <td>Alberta</td>\n",
       "      <td>3790200</td>\n",
       "      <td>35.9</td>\n",
       "      <td>5.726693</td>\n",
       "      <td>10.1</td>\n",
       "      <td>4.9</td>\n",
       "      <td>6.2</td>\n",
       "    </tr>\n",
       "    <tr>\n",
       "      <th>9</th>\n",
       "      <td>British Columbia</td>\n",
       "      <td>4499100</td>\n",
       "      <td>41.1</td>\n",
       "      <td>4.762288</td>\n",
       "      <td>14.7</td>\n",
       "      <td>5.4</td>\n",
       "      <td>5.4</td>\n",
       "    </tr>\n",
       "  </tbody>\n",
       "</table>\n",
       "</div>"
      ],
      "text/plain": [
       "                    Province  Population Count  Median Age  \\\n",
       "0  Newfoundland and Labrador            525000        43.4   \n",
       "1       Prince Edward Island            144000        41.9   \n",
       "2                Nova Scotia            944500        42.7   \n",
       "3              New Brunswick            755500        42.8   \n",
       "4                     Quebec           8007700        40.7   \n",
       "5                    Ontario          13263500        39.4   \n",
       "6                   Manitoba           1233700        37.2   \n",
       "7               Saskatchewan           1066300        37.0   \n",
       "8                    Alberta           3790200        35.9   \n",
       "9           British Columbia           4499100        41.1   \n",
       "\n",
       "   Population Density  % of Seniors  Unemployment Rate  prop_aborginal  \n",
       "0            1.295618          15.0                7.5             7.1  \n",
       "1           25.441696          15.0               12.6             1.6  \n",
       "2           17.084509          15.2               11.0             3.7  \n",
       "3           10.362374          15.1                9.0             3.1  \n",
       "4            5.192872          14.1                9.5             1.8  \n",
       "5           12.322149          13.3                7.9             2.4  \n",
       "6            1.904455          12.7                7.9            16.7  \n",
       "7            1.637851          13.4                5.5            15.6  \n",
       "8            5.726693          10.1                4.9             6.2  \n",
       "9            4.762288          14.7                5.4             5.4  "
      ]
     },
     "execution_count": 191,
     "metadata": {},
     "output_type": "execute_result"
    }
   ],
   "source": [
    "df_tsne"
   ]
  },
  {
   "cell_type": "code",
   "execution_count": 217,
   "metadata": {},
   "outputs": [],
   "source": [
    "from sklearn.decomposition import PCA\n",
    "pca = PCA(n_components=2)\n",
    "principalComponents = pca.fit_transform(df_tsne.iloc[:,1:-3])\n",
    "principalDf = pd.DataFrame(data = principalComponents\n",
    "             , columns = ['principal component 1', 'principal component 2'])"
   ]
  },
  {
   "cell_type": "code",
   "execution_count": 228,
   "metadata": {},
   "outputs": [
    {
     "name": "stderr",
     "output_type": "stream",
     "text": [
      "/Users/bassim/anaconda3/lib/python3.6/site-packages/ipykernel_launcher.py:3: SettingWithCopyWarning: \n",
      "A value is trying to be set on a copy of a slice from a DataFrame.\n",
      "Try using .loc[row_indexer,col_indexer] = value instead\n",
      "\n",
      "See the caveats in the documentation: http://pandas.pydata.org/pandas-docs/stable/indexing.html#indexing-view-versus-copy\n",
      "  This is separate from the ipykernel package so we can avoid doing imports until\n"
     ]
    }
   ],
   "source": [
    "d = {1:'Newfoundland and Labrador, Prince Edward Island, Nova Scotia, New Brunswick',2:'Quebec',3:'Ontario',4:'Alberta, British Columbia'}\n",
    "\n",
    "df_tsne['Provinces in Cluster'] = [d[x] for x in df_tsne['cluster_num']]\n"
   ]
  },
  {
   "cell_type": "code",
   "execution_count": 230,
   "metadata": {},
   "outputs": [
    {
     "data": {
      "text/plain": [
       "<matplotlib.axes._subplots.AxesSubplot at 0x1a35b20a20>"
      ]
     },
     "execution_count": 230,
     "metadata": {},
     "output_type": "execute_result"
    },
    {
     "data": {
      "image/png": "[encoded data removed]",
      "text/plain": [
       "<Figure size 720x720 with 1 Axes>"
      ]
     },
     "metadata": {},
     "output_type": "display_data"
    }
   ],
   "source": [
    "plt.figure(figsize=(10,10))\n",
    "sns.scatterplot(\n",
    "    x=principalDf[\"principal component 1\"], y=principalDf[\"principal component 2\"],\n",
    "    palette='inferno',\n",
    "    hue=df_tsne['Provinces in Cluster'],\n",
    "    s=100\n",
    ")"
   ]
  },
  {
   "cell_type": "code",
   "execution_count": 233,
   "metadata": {},
   "outputs": [
    {
     "data": {
      "image/png": "[encoded data removed]",
      "text/plain": [
       "<Figure size 432x432 with 1 Axes>"
      ]
     },
     "metadata": {},
     "output_type": "display_data"
    }
   ],
   "source": [
    "list_k = list(range(1, 10))\n",
    "sse = []\n",
    "\n",
    "for k in list_k:\n",
    "    km = KMeans(n_clusters=k)\n",
    "    km.fit(df_tsne.iloc[:,1:-5])\n",
    "    sse.append(km.inertia_)\n",
    "\n",
    "# Plot sse against k\n",
    "plt.figure(figsize=(6, 6))\n",
    "plt.plot(list_k, sse, '-o')\n",
    "plt.xlabel(r'Number of clusters *k*')\n",
    "plt.ylabel('Sum of squared distance');"
   ]
  },
  {
   "cell_type": "code",
   "execution_count": 200,
   "metadata": {},
   "outputs": [
    {
     "data": {
      "text/plain": [
       "KMeans(algorithm='auto', copy_x=True, init='k-means++', max_iter=300,\n",
       "    n_clusters=4, n_init=10, n_jobs=None, precompute_distances='auto',\n",
       "    random_state=None, tol=0.0001, verbose=0)"
      ]
     },
     "execution_count": 200,
     "metadata": {},
     "output_type": "execute_result"
    }
   ],
   "source": [
    "km = KMeans(n_clusters=4)\n",
    "km.fit(df_tsne.iloc[:,1:])"
   ]
  },
  {
   "cell_type": "code",
   "execution_count": 202,
   "metadata": {},
   "outputs": [
    {
     "name": "stderr",
     "output_type": "stream",
     "text": [
      "/Users/bassim/anaconda3/lib/python3.6/site-packages/ipykernel_launcher.py:1: SettingWithCopyWarning: \n",
      "A value is trying to be set on a copy of a slice from a DataFrame.\n",
      "Try using .loc[row_indexer,col_indexer] = value instead\n",
      "\n",
      "See the caveats in the documentation: http://pandas.pydata.org/pandas-docs/stable/indexing.html#indexing-view-versus-copy\n",
      "  \"\"\"Entry point for launching an IPython kernel.\n"
     ]
    }
   ],
   "source": [
    "df_tsne['cluster_num'] = [x+1 for x in km.labels_]"
   ]
  },
  {
   "cell_type": "code",
   "execution_count": 203,
   "metadata": {},
   "outputs": [
    {
     "data": {
      "text/html": [
       "<div>\n",
       "<style scoped>\n",
       "    .dataframe tbody tr th:only-of-type {\n",
       "        vertical-align: middle;\n",
       "    }\n",
       "\n",
       "    .dataframe tbody tr th {\n",
       "        vertical-align: top;\n",
       "    }\n",
       "\n",
       "    .dataframe thead th {\n",
       "        text-align: right;\n",
       "    }\n",
       "</style>\n",
       "<table border=\"1\" class=\"dataframe\">\n",
       "  <thead>\n",
       "    <tr style=\"text-align: right;\">\n",
       "      <th></th>\n",
       "      <th>Province</th>\n",
       "      <th>Population Count</th>\n",
       "      <th>Median Age</th>\n",
       "      <th>Population Density</th>\n",
       "      <th>% of Seniors</th>\n",
       "      <th>Unemployment Rate</th>\n",
       "      <th>prop_aborginal</th>\n",
       "      <th>tsne-2d-one</th>\n",
       "      <th>tsne-2d-two</th>\n",
       "      <th>cluster_num</th>\n",
       "    </tr>\n",
       "  </thead>\n",
       "  <tbody>\n",
       "    <tr>\n",
       "      <th>0</th>\n",
       "      <td>Newfoundland and Labrador</td>\n",
       "      <td>525000</td>\n",
       "      <td>43.4</td>\n",
       "      <td>1.295618</td>\n",
       "      <td>15.0</td>\n",
       "      <td>7.5</td>\n",
       "      <td>7.1</td>\n",
       "      <td>-51.531681</td>\n",
       "      <td>2.285997</td>\n",
       "      <td>1</td>\n",
       "    </tr>\n",
       "    <tr>\n",
       "      <th>1</th>\n",
       "      <td>Prince Edward Island</td>\n",
       "      <td>144000</td>\n",
       "      <td>41.9</td>\n",
       "      <td>25.441696</td>\n",
       "      <td>15.0</td>\n",
       "      <td>12.6</td>\n",
       "      <td>1.6</td>\n",
       "      <td>33.377209</td>\n",
       "      <td>-43.326256</td>\n",
       "      <td>1</td>\n",
       "    </tr>\n",
       "    <tr>\n",
       "      <th>2</th>\n",
       "      <td>Nova Scotia</td>\n",
       "      <td>944500</td>\n",
       "      <td>42.7</td>\n",
       "      <td>17.084509</td>\n",
       "      <td>15.2</td>\n",
       "      <td>11.0</td>\n",
       "      <td>3.7</td>\n",
       "      <td>-82.557465</td>\n",
       "      <td>-20.030706</td>\n",
       "      <td>1</td>\n",
       "    </tr>\n",
       "    <tr>\n",
       "      <th>3</th>\n",
       "      <td>New Brunswick</td>\n",
       "      <td>755500</td>\n",
       "      <td>42.8</td>\n",
       "      <td>10.362374</td>\n",
       "      <td>15.1</td>\n",
       "      <td>9.0</td>\n",
       "      <td>3.1</td>\n",
       "      <td>-10.103063</td>\n",
       "      <td>-24.806114</td>\n",
       "      <td>1</td>\n",
       "    </tr>\n",
       "    <tr>\n",
       "      <th>4</th>\n",
       "      <td>Quebec</td>\n",
       "      <td>8007700</td>\n",
       "      <td>40.7</td>\n",
       "      <td>5.192872</td>\n",
       "      <td>14.1</td>\n",
       "      <td>9.5</td>\n",
       "      <td>1.8</td>\n",
       "      <td>-50.158733</td>\n",
       "      <td>-10.992253</td>\n",
       "      <td>2</td>\n",
       "    </tr>\n",
       "    <tr>\n",
       "      <th>5</th>\n",
       "      <td>Ontario</td>\n",
       "      <td>13263500</td>\n",
       "      <td>39.4</td>\n",
       "      <td>12.322149</td>\n",
       "      <td>13.3</td>\n",
       "      <td>7.9</td>\n",
       "      <td>2.4</td>\n",
       "      <td>-15.240063</td>\n",
       "      <td>-10.650352</td>\n",
       "      <td>3</td>\n",
       "    </tr>\n",
       "    <tr>\n",
       "      <th>6</th>\n",
       "      <td>Manitoba</td>\n",
       "      <td>1233700</td>\n",
       "      <td>37.2</td>\n",
       "      <td>1.904455</td>\n",
       "      <td>12.7</td>\n",
       "      <td>7.9</td>\n",
       "      <td>16.7</td>\n",
       "      <td>-48.113655</td>\n",
       "      <td>-20.314690</td>\n",
       "      <td>1</td>\n",
       "    </tr>\n",
       "    <tr>\n",
       "      <th>7</th>\n",
       "      <td>Saskatchewan</td>\n",
       "      <td>1066300</td>\n",
       "      <td>37.0</td>\n",
       "      <td>1.637851</td>\n",
       "      <td>13.4</td>\n",
       "      <td>5.5</td>\n",
       "      <td>15.6</td>\n",
       "      <td>-39.928349</td>\n",
       "      <td>-25.334976</td>\n",
       "      <td>1</td>\n",
       "    </tr>\n",
       "    <tr>\n",
       "      <th>8</th>\n",
       "      <td>Alberta</td>\n",
       "      <td>3790200</td>\n",
       "      <td>35.9</td>\n",
       "      <td>5.726693</td>\n",
       "      <td>10.1</td>\n",
       "      <td>4.9</td>\n",
       "      <td>6.2</td>\n",
       "      <td>-177.584900</td>\n",
       "      <td>0.180537</td>\n",
       "      <td>4</td>\n",
       "    </tr>\n",
       "    <tr>\n",
       "      <th>9</th>\n",
       "      <td>British Columbia</td>\n",
       "      <td>4499100</td>\n",
       "      <td>41.1</td>\n",
       "      <td>4.762288</td>\n",
       "      <td>14.7</td>\n",
       "      <td>5.4</td>\n",
       "      <td>5.4</td>\n",
       "      <td>-21.851727</td>\n",
       "      <td>-28.776264</td>\n",
       "      <td>4</td>\n",
       "    </tr>\n",
       "  </tbody>\n",
       "</table>\n",
       "</div>"
      ],
      "text/plain": [
       "                    Province  Population Count  Median Age  \\\n",
       "0  Newfoundland and Labrador            525000        43.4   \n",
       "1       Prince Edward Island            144000        41.9   \n",
       "2                Nova Scotia            944500        42.7   \n",
       "3              New Brunswick            755500        42.8   \n",
       "4                     Quebec           8007700        40.7   \n",
       "5                    Ontario          13263500        39.4   \n",
       "6                   Manitoba           1233700        37.2   \n",
       "7               Saskatchewan           1066300        37.0   \n",
       "8                    Alberta           3790200        35.9   \n",
       "9           British Columbia           4499100        41.1   \n",
       "\n",
       "   Population Density  % of Seniors  Unemployment Rate  prop_aborginal  \\\n",
       "0            1.295618          15.0                7.5             7.1   \n",
       "1           25.441696          15.0               12.6             1.6   \n",
       "2           17.084509          15.2               11.0             3.7   \n",
       "3           10.362374          15.1                9.0             3.1   \n",
       "4            5.192872          14.1                9.5             1.8   \n",
       "5           12.322149          13.3                7.9             2.4   \n",
       "6            1.904455          12.7                7.9            16.7   \n",
       "7            1.637851          13.4                5.5            15.6   \n",
       "8            5.726693          10.1                4.9             6.2   \n",
       "9            4.762288          14.7                5.4             5.4   \n",
       "\n",
       "   tsne-2d-one  tsne-2d-two  cluster_num  \n",
       "0   -51.531681     2.285997            1  \n",
       "1    33.377209   -43.326256            1  \n",
       "2   -82.557465   -20.030706            1  \n",
       "3   -10.103063   -24.806114            1  \n",
       "4   -50.158733   -10.992253            2  \n",
       "5   -15.240063   -10.650352            3  \n",
       "6   -48.113655   -20.314690            1  \n",
       "7   -39.928349   -25.334976            1  \n",
       "8  -177.584900     0.180537            4  \n",
       "9   -21.851727   -28.776264            4  "
      ]
     },
     "execution_count": 203,
     "metadata": {},
     "output_type": "execute_result"
    }
   ],
   "source": [
    "df_tsne"
   ]
  },
  {
   "cell_type": "code",
   "execution_count": 243,
   "metadata": {},
   "outputs": [],
   "source": [
    "import itertools\n",
    "iters = [list(x) for x in list(itertools.permutations([x for x in df_comp_copy.iloc[:,:-1].columns]))]"
   ]
  },
  {
   "cell_type": "code",
   "execution_count": 244,
   "metadata": {},
   "outputs": [
    {
     "data": {
      "text/plain": [
       "24"
      ]
     },
     "execution_count": 244,
     "metadata": {},
     "output_type": "execute_result"
    }
   ],
   "source": [
    "len(iters)"
   ]
  },
  {
   "cell_type": "code",
   "execution_count": 246,
   "metadata": {},
   "outputs": [],
   "source": [
    "df_comp_copy['wait_times'] = 1 - df_comp_copy['wait_times']\n",
    "df_comp_copy['Infant Mortality'] = 1 - df_comp_copy['Infant Mortality']\n",
    "\n"
   ]
  },
  {
   "cell_type": "code",
   "execution_count": 247,
   "metadata": {},
   "outputs": [
    {
     "data": {
      "text/html": [
       "<div>\n",
       "<style scoped>\n",
       "    .dataframe tbody tr th:only-of-type {\n",
       "        vertical-align: middle;\n",
       "    }\n",
       "\n",
       "    .dataframe tbody tr th {\n",
       "        vertical-align: top;\n",
       "    }\n",
       "\n",
       "    .dataframe thead th {\n",
       "        text-align: right;\n",
       "    }\n",
       "</style>\n",
       "<table border=\"1\" class=\"dataframe\">\n",
       "  <thead>\n",
       "    <tr style=\"text-align: right;\">\n",
       "      <th></th>\n",
       "      <th>Infant Mortality</th>\n",
       "      <th>Life Expectancy at Birth</th>\n",
       "      <th>Life Expectancy at Age 65</th>\n",
       "      <th>wait_times</th>\n",
       "      <th>rank</th>\n",
       "    </tr>\n",
       "    <tr>\n",
       "      <th>GEO</th>\n",
       "      <th></th>\n",
       "      <th></th>\n",
       "      <th></th>\n",
       "      <th></th>\n",
       "      <th></th>\n",
       "    </tr>\n",
       "  </thead>\n",
       "  <tbody>\n",
       "    <tr>\n",
       "      <th>British Columbia</th>\n",
       "      <td>0.963855</td>\n",
       "      <td>1.000000</td>\n",
       "      <td>1.00</td>\n",
       "      <td>0.737374</td>\n",
       "      <td>1</td>\n",
       "    </tr>\n",
       "    <tr>\n",
       "      <th>Quebec</th>\n",
       "      <td>0.855422</td>\n",
       "      <td>1.000000</td>\n",
       "      <td>0.88</td>\n",
       "      <td>0.986532</td>\n",
       "      <td>2</td>\n",
       "    </tr>\n",
       "    <tr>\n",
       "      <th>Ontario</th>\n",
       "      <td>0.771084</td>\n",
       "      <td>0.881188</td>\n",
       "      <td>0.84</td>\n",
       "      <td>0.989899</td>\n",
       "      <td>3</td>\n",
       "    </tr>\n",
       "    <tr>\n",
       "      <th>Prince Edward Island</th>\n",
       "      <td>0.975904</td>\n",
       "      <td>0.861386</td>\n",
       "      <td>0.76</td>\n",
       "      <td>0.178451</td>\n",
       "      <td>4</td>\n",
       "    </tr>\n",
       "    <tr>\n",
       "      <th>New Brunswick</th>\n",
       "      <td>1.000000</td>\n",
       "      <td>0.782178</td>\n",
       "      <td>0.80</td>\n",
       "      <td>0.000000</td>\n",
       "      <td>5</td>\n",
       "    </tr>\n",
       "    <tr>\n",
       "      <th>Alberta</th>\n",
       "      <td>0.746988</td>\n",
       "      <td>0.782178</td>\n",
       "      <td>0.72</td>\n",
       "      <td>0.639731</td>\n",
       "      <td>6</td>\n",
       "    </tr>\n",
       "    <tr>\n",
       "      <th>Saskatchewan</th>\n",
       "      <td>0.542169</td>\n",
       "      <td>0.722772</td>\n",
       "      <td>0.76</td>\n",
       "      <td>1.000000</td>\n",
       "      <td>7</td>\n",
       "    </tr>\n",
       "    <tr>\n",
       "      <th>Newfoundland and Labrador</th>\n",
       "      <td>0.807229</td>\n",
       "      <td>0.702970</td>\n",
       "      <td>0.70</td>\n",
       "      <td>0.777778</td>\n",
       "      <td>8</td>\n",
       "    </tr>\n",
       "    <tr>\n",
       "      <th>Manitoba</th>\n",
       "      <td>0.469880</td>\n",
       "      <td>0.693069</td>\n",
       "      <td>0.72</td>\n",
       "      <td>0.639731</td>\n",
       "      <td>9</td>\n",
       "    </tr>\n",
       "    <tr>\n",
       "      <th>Nova Scotia</th>\n",
       "      <td>0.843373</td>\n",
       "      <td>0.673267</td>\n",
       "      <td>0.64</td>\n",
       "      <td>0.360269</td>\n",
       "      <td>10</td>\n",
       "    </tr>\n",
       "  </tbody>\n",
       "</table>\n",
       "</div>"
      ],
      "text/plain": [
       "                           Infant Mortality  Life Expectancy at Birth  \\\n",
       "GEO                                                                     \n",
       "British Columbia                   0.963855                  1.000000   \n",
       "Quebec                             0.855422                  1.000000   \n",
       "Ontario                            0.771084                  0.881188   \n",
       "Prince Edward Island               0.975904                  0.861386   \n",
       "New Brunswick                      1.000000                  0.782178   \n",
       "Alberta                            0.746988                  0.782178   \n",
       "Saskatchewan                       0.542169                  0.722772   \n",
       "Newfoundland and Labrador          0.807229                  0.702970   \n",
       "Manitoba                           0.469880                  0.693069   \n",
       "Nova Scotia                        0.843373                  0.673267   \n",
       "\n",
       "                           Life Expectancy at Age 65  wait_times  rank  \n",
       "GEO                                                                     \n",
       "British Columbia                                1.00    0.737374     1  \n",
       "Quebec                                          0.88    0.986532     2  \n",
       "Ontario                                         0.84    0.989899     3  \n",
       "Prince Edward Island                            0.76    0.178451     4  \n",
       "New Brunswick                                   0.80    0.000000     5  \n",
       "Alberta                                         0.72    0.639731     6  \n",
       "Saskatchewan                                    0.76    1.000000     7  \n",
       "Newfoundland and Labrador                       0.70    0.777778     8  \n",
       "Manitoba                                        0.72    0.639731     9  \n",
       "Nova Scotia                                     0.64    0.360269    10  "
      ]
     },
     "execution_count": 247,
     "metadata": {},
     "output_type": "execute_result"
    }
   ],
   "source": [
    "df_comp_copy"
   ]
  },
  {
   "cell_type": "code",
   "execution_count": 254,
   "metadata": {},
   "outputs": [],
   "source": [
    "df_comp_copy.reset_index(inplace=True)"
   ]
  },
  {
   "cell_type": "code",
   "execution_count": 255,
   "metadata": {},
   "outputs": [],
   "source": [
    "d2 = {}\n",
    "\n",
    "for order in iters:\n",
    "    df_temp = df_comp_copy.iloc[:,:-1].copy()\n",
    "    df_temp.sort_values(by=order,ascending=False,inplace=True)\n",
    "    df_temp['rank'] = [x for x in range(1,11)]\n",
    "    for index, row in df_temp.iterrows():\n",
    "        if row['GEO'] not in d2.keys():\n",
    "            d2[row['GEO']] = [row['rank']]\n",
    "        else:\n",
    "            d2[row['GEO']].append(row['rank'])\n",
    "    \n",
    "    "
   ]
  },
  {
   "cell_type": "code",
   "execution_count": 262,
   "metadata": {},
   "outputs": [
    {
     "data": {
      "text/plain": [
       "[(0.8862745098039215, 0.2901960784313726, 0.2),\n",
       " (0.20392156862745098, 0.5411764705882353, 0.7411764705882353),\n",
       " (0.596078431372549, 0.5568627450980392, 0.8352941176470589),\n",
       " (0.4666666666666667, 0.4666666666666667, 0.4666666666666667),\n",
       " (0.984313725490196, 0.7568627450980392, 0.3686274509803922),\n",
       " (0.5568627450980392, 0.7294117647058823, 0.25882352941176473),\n",
       " (1.0, 0.7098039215686275, 0.7215686274509804)]"
      ]
     },
     "execution_count": 262,
     "metadata": {},
     "output_type": "execute_result"
    }
   ],
   "source": [
    "sns.color_palette()"
   ]
  },
  {
   "cell_type": "code",
   "execution_count": 272,
   "metadata": {},
   "outputs": [],
   "source": [
    "list_colors = sns.color_palette(\"bright\", 8) + sns.color_palette(\"pastel\", 8)"
   ]
  },
  {
   "cell_type": "code",
   "execution_count": 273,
   "metadata": {},
   "outputs": [
    {
     "data": {
      "image/png": "[encoded data removed]",
      "text/plain": [
       "<Figure size 720x720 with 1 Axes>"
      ]
     },
     "metadata": {},
     "output_type": "display_data"
    }
   ],
   "source": [
    "plt.figure(figsize=(10,10))\n",
    "plt.title('Ranking Distributions Across Provinces')\n",
    "count = 0\n",
    "for val in df_comp_copy['GEO']:\n",
    "    sns.distplot(d2[val],label=val,color=list_colors[count])\n",
    "    plt.legend()\n",
    "    count+=1"
   ]
  },
  {
   "cell_type": "code",
   "execution_count": 276,
   "metadata": {},
   "outputs": [
    {
     "data": {
      "image/png": "[encoded data removed]",
      "text/plain": [
       "<Figure size 720x720 with 1 Axes>"
      ]
     },
     "metadata": {},
     "output_type": "display_data"
    }
   ],
   "source": [
    "plt.figure(figsize=(10,10))\n",
    "plt.title('Ranking Distribution Between Alberta and British Columbia')\n",
    "count = 0\n",
    "for val in ['Alberta','British Columbia']:\n",
    "    sns.distplot(d2[val],label=val,color=list_colors[count])\n",
    "    plt.legend()\n",
    "    count+=1"
   ]
  },
  {
   "cell_type": "code",
   "execution_count": null,
   "metadata": {},
   "outputs": [],
   "source": []
  },
  {
   "cell_type": "code",
   "execution_count": 166,
   "metadata": {},
   "outputs": [],
   "source": [
    "df_comp_copy['rank'] = [x for x in range(1,11)]"
   ]
  },
  {
   "cell_type": "code",
   "execution_count": 168,
   "metadata": {},
   "outputs": [
    {
     "data": {
      "text/html": [
       "<div>\n",
       "<style scoped>\n",
       "    .dataframe tbody tr th:only-of-type {\n",
       "        vertical-align: middle;\n",
       "    }\n",
       "\n",
       "    .dataframe tbody tr th {\n",
       "        vertical-align: top;\n",
       "    }\n",
       "\n",
       "    .dataframe thead th {\n",
       "        text-align: right;\n",
       "    }\n",
       "</style>\n",
       "<table border=\"1\" class=\"dataframe\">\n",
       "  <thead>\n",
       "    <tr style=\"text-align: right;\">\n",
       "      <th></th>\n",
       "      <th>Infant Mortality</th>\n",
       "      <th>Life Expectancy at Birth</th>\n",
       "      <th>Life Expectancy at Age 65</th>\n",
       "      <th>wait_times</th>\n",
       "      <th>rank</th>\n",
       "    </tr>\n",
       "    <tr>\n",
       "      <th>GEO</th>\n",
       "      <th></th>\n",
       "      <th></th>\n",
       "      <th></th>\n",
       "      <th></th>\n",
       "      <th></th>\n",
       "    </tr>\n",
       "  </thead>\n",
       "  <tbody>\n",
       "    <tr>\n",
       "      <th>British Columbia</th>\n",
       "      <td>0.036145</td>\n",
       "      <td>1.000000</td>\n",
       "      <td>1.00</td>\n",
       "      <td>0.262626</td>\n",
       "      <td>1</td>\n",
       "    </tr>\n",
       "    <tr>\n",
       "      <th>Quebec</th>\n",
       "      <td>0.144578</td>\n",
       "      <td>1.000000</td>\n",
       "      <td>0.88</td>\n",
       "      <td>0.013468</td>\n",
       "      <td>2</td>\n",
       "    </tr>\n",
       "    <tr>\n",
       "      <th>Ontario</th>\n",
       "      <td>0.228916</td>\n",
       "      <td>0.881188</td>\n",
       "      <td>0.84</td>\n",
       "      <td>0.010101</td>\n",
       "      <td>3</td>\n",
       "    </tr>\n",
       "    <tr>\n",
       "      <th>Prince Edward Island</th>\n",
       "      <td>0.024096</td>\n",
       "      <td>0.861386</td>\n",
       "      <td>0.76</td>\n",
       "      <td>0.821549</td>\n",
       "      <td>4</td>\n",
       "    </tr>\n",
       "    <tr>\n",
       "      <th>New Brunswick</th>\n",
       "      <td>0.000000</td>\n",
       "      <td>0.782178</td>\n",
       "      <td>0.80</td>\n",
       "      <td>1.000000</td>\n",
       "      <td>5</td>\n",
       "    </tr>\n",
       "    <tr>\n",
       "      <th>Alberta</th>\n",
       "      <td>0.253012</td>\n",
       "      <td>0.782178</td>\n",
       "      <td>0.72</td>\n",
       "      <td>0.360269</td>\n",
       "      <td>6</td>\n",
       "    </tr>\n",
       "    <tr>\n",
       "      <th>Saskatchewan</th>\n",
       "      <td>0.457831</td>\n",
       "      <td>0.722772</td>\n",
       "      <td>0.76</td>\n",
       "      <td>0.000000</td>\n",
       "      <td>7</td>\n",
       "    </tr>\n",
       "    <tr>\n",
       "      <th>Newfoundland and Labrador</th>\n",
       "      <td>0.192771</td>\n",
       "      <td>0.702970</td>\n",
       "      <td>0.70</td>\n",
       "      <td>0.222222</td>\n",
       "      <td>8</td>\n",
       "    </tr>\n",
       "    <tr>\n",
       "      <th>Manitoba</th>\n",
       "      <td>0.530120</td>\n",
       "      <td>0.693069</td>\n",
       "      <td>0.72</td>\n",
       "      <td>0.360269</td>\n",
       "      <td>9</td>\n",
       "    </tr>\n",
       "    <tr>\n",
       "      <th>Nova Scotia</th>\n",
       "      <td>0.156627</td>\n",
       "      <td>0.673267</td>\n",
       "      <td>0.64</td>\n",
       "      <td>0.639731</td>\n",
       "      <td>10</td>\n",
       "    </tr>\n",
       "  </tbody>\n",
       "</table>\n",
       "</div>"
      ],
      "text/plain": [
       "                           Infant Mortality  Life Expectancy at Birth  \\\n",
       "GEO                                                                     \n",
       "British Columbia                   0.036145                  1.000000   \n",
       "Quebec                             0.144578                  1.000000   \n",
       "Ontario                            0.228916                  0.881188   \n",
       "Prince Edward Island               0.024096                  0.861386   \n",
       "New Brunswick                      0.000000                  0.782178   \n",
       "Alberta                            0.253012                  0.782178   \n",
       "Saskatchewan                       0.457831                  0.722772   \n",
       "Newfoundland and Labrador          0.192771                  0.702970   \n",
       "Manitoba                           0.530120                  0.693069   \n",
       "Nova Scotia                        0.156627                  0.673267   \n",
       "\n",
       "                           Life Expectancy at Age 65  wait_times  rank  \n",
       "GEO                                                                     \n",
       "British Columbia                                1.00    0.262626     1  \n",
       "Quebec                                          0.88    0.013468     2  \n",
       "Ontario                                         0.84    0.010101     3  \n",
       "Prince Edward Island                            0.76    0.821549     4  \n",
       "New Brunswick                                   0.80    1.000000     5  \n",
       "Alberta                                         0.72    0.360269     6  \n",
       "Saskatchewan                                    0.76    0.000000     7  \n",
       "Newfoundland and Labrador                       0.70    0.222222     8  \n",
       "Manitoba                                        0.72    0.360269     9  \n",
       "Nova Scotia                                     0.64    0.639731    10  "
      ]
     },
     "execution_count": 168,
     "metadata": {},
     "output_type": "execute_result"
    }
   ],
   "source": [
    "df_comp_copy"
   ]
  },
  {
   "cell_type": "code",
   "execution_count": 185,
   "metadata": {},
   "outputs": [],
   "source": [
    "from sklearn.cluster import KMeans\n"
   ]
  },
  {
   "cell_type": "code",
   "execution_count": null,
   "metadata": {},
   "outputs": [],
   "source": [
    "tsne = TSNE(n_components=2, verbose=1, perplexity=40, n_iter=300)\n",
    "tsne_results = tsne.fit_transform(data_subset)"
   ]
  },
  {
   "cell_type": "code",
   "execution_count": null,
   "metadata": {},
   "outputs": [],
   "source": []
  },
  {
   "cell_type": "code",
   "execution_count": null,
   "metadata": {},
   "outputs": [],
   "source": []
  },
  {
   "cell_type": "code",
   "execution_count": null,
   "metadata": {},
   "outputs": [],
   "source": []
  },
  {
   "cell_type": "code",
   "execution_count": 173,
   "metadata": {},
   "outputs": [
    {
     "data": {
      "image/png": "[encoded data removed]",
      "text/plain": [
       "<Figure size 720x720 with 2 Axes>"
      ]
     },
     "metadata": {
      "needs_background": "light"
     },
     "output_type": "display_data"
    }
   ],
   "source": [
    "import matplotlib.pyplot as plt\n",
    "plt.figure(figsize=(10,10))\n",
    "sns.heatmap(df_comp_copy.iloc[:,:-1])\n",
    "plt.savefig('heatmap_rank.png')"
   ]
  },
  {
   "cell_type": "code",
   "execution_count": 167,
   "metadata": {},
   "outputs": [],
   "source": [
    "df_comp_copy.to_csv('ranked_provinces.csv')"
   ]
  },
  {
   "cell_type": "code",
   "execution_count": 183,
   "metadata": {},
   "outputs": [],
   "source": [
    "plt.style.use('ggplot')"
   ]
  },
  {
   "cell_type": "code",
   "execution_count": 184,
   "metadata": {},
   "outputs": [
    {
     "data": {
      "text/plain": [
       "<matplotlib.axes._subplots.AxesSubplot at 0x11bb35eb8>"
      ]
     },
     "execution_count": 184,
     "metadata": {},
     "output_type": "execute_result"
    },
    {
     "data": {
      "image/png": "[encoded data removed]",
      "text/plain": [
       "<Figure size 720x720 with 1 Axes>"
      ]
     },
     "metadata": {},
     "output_type": "display_data"
    }
   ],
   "source": [
    "plt.figure(figsize=(10,10))\n",
    "df_comp_copy.iloc[:,:-1].boxplot()"
   ]
  },
  {
   "cell_type": "code",
   "execution_count": null,
   "metadata": {},
   "outputs": [],
   "source": []
  }
 ],
 "metadata": {
  "kernelspec": {
   "display_name": "Python 3",
   "language": "python",
   "name": "python3"
  },
  "language_info": {
   "codemirror_mode": {
    "name": "ipython",
    "version": 3
   },
   "file_extension": ".py",
   "mimetype": "text/x-python",
   "name": "python",
   "nbconvert_exporter": "python",
   "pygments_lexer": "ipython3",
   "version": "3.6.8"
  }
 },
 "nbformat": 4,
 "nbformat_minor": 2
}
